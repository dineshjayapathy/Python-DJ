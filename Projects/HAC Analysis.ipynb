{
 "cells": [
  {
   "cell_type": "code",
   "execution_count": 1,
   "metadata": {
    "collapsed": true
   },
   "outputs": [],
   "source": [
    "import pandas as pd\n",
    "import numpy as np\n",
    "import seaborn as sns\n",
    "from seaborn import plt\n",
    "from pandas import DataFrame\n",
    "\n",
    "%matplotlib inline"
   ]
  },
  {
   "cell_type": "code",
   "execution_count": 2,
   "metadata": {
    "collapsed": false
   },
   "outputs": [],
   "source": [
    "dtf=pd.read_csv('C:\\DJ\\Datathon\\HAC\\HAC_opV8.csv')"
   ]
  },
  {
   "cell_type": "code",
   "execution_count": 3,
   "metadata": {
    "collapsed": false,
    "scrolled": false
   },
   "outputs": [
    {
     "data": {
      "text/html": [
       "<div>\n",
       "<table border=\"1\" class=\"dataframe\">\n",
       "  <thead>\n",
       "    <tr style=\"text-align: right;\">\n",
       "      <th></th>\n",
       "      <th>﻿EventID</th>\n",
       "      <th>eventdate</th>\n",
       "      <th>hosp_inf</th>\n",
       "      <th>PersonID</th>\n",
       "      <th>category</th>\n",
       "      <th>LocationName</th>\n",
       "      <th>Age__int</th>\n",
       "      <th>event_month</th>\n",
       "      <th>specialty</th>\n",
       "      <th>depression</th>\n",
       "      <th>...</th>\n",
       "      <th>summer</th>\n",
       "      <th>fall</th>\n",
       "      <th>zip</th>\n",
       "      <th>sex_male</th>\n",
       "      <th>sex_female</th>\n",
       "      <th>race</th>\n",
       "      <th>ethnicity</th>\n",
       "      <th>language</th>\n",
       "      <th>payer</th>\n",
       "      <th>bmi</th>\n",
       "    </tr>\n",
       "  </thead>\n",
       "  <tbody>\n",
       "    <tr>\n",
       "      <th>0</th>\n",
       "      <td>23466485</td>\n",
       "      <td>2014-07-28</td>\n",
       "      <td>1</td>\n",
       "      <td>342237</td>\n",
       "      <td>Manifestations of Poor Glycemic Control</td>\n",
       "      <td>14th Ave Medical Center</td>\n",
       "      <td>16</td>\n",
       "      <td>7</td>\n",
       "      <td>Family practice</td>\n",
       "      <td>0</td>\n",
       "      <td>...</td>\n",
       "      <td>1</td>\n",
       "      <td>0</td>\n",
       "      <td>99344.0</td>\n",
       "      <td>1</td>\n",
       "      <td>0</td>\n",
       "      <td>Needs Update</td>\n",
       "      <td>Hispanic</td>\n",
       "      <td>English</td>\n",
       "      <td>other</td>\n",
       "      <td>41.736442</td>\n",
       "    </tr>\n",
       "    <tr>\n",
       "      <th>1</th>\n",
       "      <td>23545856</td>\n",
       "      <td>2012-11-21</td>\n",
       "      <td>1</td>\n",
       "      <td>623799</td>\n",
       "      <td>Manifestations of Poor Glycemic Control</td>\n",
       "      <td>14th Ave Medical Center</td>\n",
       "      <td>49</td>\n",
       "      <td>11</td>\n",
       "      <td>Radiologist</td>\n",
       "      <td>1</td>\n",
       "      <td>...</td>\n",
       "      <td>0</td>\n",
       "      <td>1</td>\n",
       "      <td>99203.0</td>\n",
       "      <td>1</td>\n",
       "      <td>0</td>\n",
       "      <td>Needs Update</td>\n",
       "      <td>Not Hispanic or Latino</td>\n",
       "      <td>Other</td>\n",
       "      <td>other</td>\n",
       "      <td>41.736442</td>\n",
       "    </tr>\n",
       "    <tr>\n",
       "      <th>2</th>\n",
       "      <td>109861</td>\n",
       "      <td>2016-05-05</td>\n",
       "      <td>0</td>\n",
       "      <td>12823</td>\n",
       "      <td>NaN</td>\n",
       "      <td>14th Ave Medical Center</td>\n",
       "      <td>52</td>\n",
       "      <td>5</td>\n",
       "      <td>Radiologist</td>\n",
       "      <td>0</td>\n",
       "      <td>...</td>\n",
       "      <td>0</td>\n",
       "      <td>0</td>\n",
       "      <td>99207.0</td>\n",
       "      <td>1</td>\n",
       "      <td>0</td>\n",
       "      <td>Needs Update</td>\n",
       "      <td>Not Hispanic or Latino</td>\n",
       "      <td>Other</td>\n",
       "      <td>other</td>\n",
       "      <td>41.736442</td>\n",
       "    </tr>\n",
       "    <tr>\n",
       "      <th>3</th>\n",
       "      <td>222950</td>\n",
       "      <td>2012-08-16</td>\n",
       "      <td>0</td>\n",
       "      <td>26817</td>\n",
       "      <td>NaN</td>\n",
       "      <td>14th Ave Medical Center</td>\n",
       "      <td>8</td>\n",
       "      <td>8</td>\n",
       "      <td>Radiologist</td>\n",
       "      <td>0</td>\n",
       "      <td>...</td>\n",
       "      <td>1</td>\n",
       "      <td>0</td>\n",
       "      <td>99109.0</td>\n",
       "      <td>0</td>\n",
       "      <td>1</td>\n",
       "      <td>Needs Update</td>\n",
       "      <td>Not Hispanic or Latino</td>\n",
       "      <td>Other</td>\n",
       "      <td>other</td>\n",
       "      <td>23.000000</td>\n",
       "    </tr>\n",
       "    <tr>\n",
       "      <th>4</th>\n",
       "      <td>10782582</td>\n",
       "      <td>2013-07-12</td>\n",
       "      <td>0</td>\n",
       "      <td>437467</td>\n",
       "      <td>NaN</td>\n",
       "      <td>14th Ave Medical Center</td>\n",
       "      <td>45</td>\n",
       "      <td>7</td>\n",
       "      <td>Radiology Diagnostic</td>\n",
       "      <td>0</td>\n",
       "      <td>...</td>\n",
       "      <td>1</td>\n",
       "      <td>0</td>\n",
       "      <td>99357.0</td>\n",
       "      <td>1</td>\n",
       "      <td>0</td>\n",
       "      <td>Needs Update</td>\n",
       "      <td>Other or Undetermined</td>\n",
       "      <td>English</td>\n",
       "      <td>other</td>\n",
       "      <td>44.900000</td>\n",
       "    </tr>\n",
       "  </tbody>\n",
       "</table>\n",
       "<p>5 rows × 27 columns</p>\n",
       "</div>"
      ],
      "text/plain": [
       "   ﻿EventID   eventdate  hosp_inf  PersonID  \\\n",
       "0  23466485  2014-07-28         1    342237   \n",
       "1  23545856  2012-11-21         1    623799   \n",
       "2    109861  2016-05-05         0     12823   \n",
       "3    222950  2012-08-16         0     26817   \n",
       "4  10782582  2013-07-12         0    437467   \n",
       "\n",
       "                                   category             LocationName  \\\n",
       "0  Manifestations of Poor Glycemic Control   14th Ave Medical Center   \n",
       "1  Manifestations of Poor Glycemic Control   14th Ave Medical Center   \n",
       "2                                       NaN  14th Ave Medical Center   \n",
       "3                                       NaN  14th Ave Medical Center   \n",
       "4                                       NaN  14th Ave Medical Center   \n",
       "\n",
       "   Age__int  event_month             specialty  depression    ...      summer  \\\n",
       "0        16            7       Family practice           0    ...           1   \n",
       "1        49           11           Radiologist           1    ...           0   \n",
       "2        52            5           Radiologist           0    ...           0   \n",
       "3         8            8           Radiologist           0    ...           1   \n",
       "4        45            7  Radiology Diagnostic           0    ...           1   \n",
       "\n",
       "   fall      zip  sex_male  sex_female          race               ethnicity  \\\n",
       "0     0  99344.0         1           0  Needs Update                Hispanic   \n",
       "1     1  99203.0         1           0  Needs Update  Not Hispanic or Latino   \n",
       "2     0  99207.0         1           0  Needs Update  Not Hispanic or Latino   \n",
       "3     0  99109.0         0           1  Needs Update  Not Hispanic or Latino   \n",
       "4     0  99357.0         1           0  Needs Update   Other or Undetermined   \n",
       "\n",
       "   language  payer        bmi  \n",
       "0   English  other  41.736442  \n",
       "1     Other  other  41.736442  \n",
       "2     Other  other  41.736442  \n",
       "3     Other  other  23.000000  \n",
       "4   English  other  44.900000  \n",
       "\n",
       "[5 rows x 27 columns]"
      ]
     },
     "execution_count": 3,
     "metadata": {},
     "output_type": "execute_result"
    }
   ],
   "source": [
    "dtf.head()"
   ]
  },
  {
   "cell_type": "code",
   "execution_count": 4,
   "metadata": {
    "collapsed": false,
    "scrolled": true
   },
   "outputs": [
    {
     "name": "stdout",
     "output_type": "stream",
     "text": [
      "<class 'pandas.core.frame.DataFrame'>\n",
      "RangeIndex: 12196 entries, 0 to 12195\n",
      "Data columns (total 27 columns):\n",
      "﻿EventID        12196 non-null int64\n",
      "eventdate       12196 non-null object\n",
      "hosp_inf        12196 non-null int64\n",
      "PersonID        12196 non-null int64\n",
      "category        2196 non-null object\n",
      "LocationName    12196 non-null object\n",
      "Age__int        12196 non-null int64\n",
      "event_month     12196 non-null int64\n",
      "specialty       12196 non-null object\n",
      "depression      12196 non-null int64\n",
      "anxiety         12196 non-null int64\n",
      "stroke          12196 non-null int64\n",
      "pain            12196 non-null int64\n",
      "diabetes        12196 non-null int64\n",
      "preg_in_year    12196 non-null int64\n",
      "winter          12196 non-null int64\n",
      "spring          12196 non-null int64\n",
      "summer          12196 non-null int64\n",
      "fall            12196 non-null int64\n",
      "zip             12195 non-null float64\n",
      "sex_male        12196 non-null int64\n",
      "sex_female      12196 non-null int64\n",
      "race            12196 non-null object\n",
      "ethnicity       12196 non-null object\n",
      "language        12196 non-null object\n",
      "payer           12196 non-null object\n",
      "bmi             12196 non-null float64\n",
      "dtypes: float64(2), int64(17), object(8)\n",
      "memory usage: 2.5+ MB\n"
     ]
    }
   ],
   "source": [
    "dtf.info()"
   ]
  },
  {
   "cell_type": "code",
   "execution_count": 5,
   "metadata": {
    "collapsed": false
   },
   "outputs": [],
   "source": [
    "\n",
    "\n",
    "\n",
    "\n",
    "dtf = pd.concat([dtf, pd.get_dummies(dtf['LocationName'], prefix='Location')], axis=1)\n",
    "dtf = pd.concat([dtf, pd.get_dummies(dtf['specialty'], prefix='specialty')], axis=1)\n",
    "\n",
    "dtf = pd.concat([dtf, pd.get_dummies(dtf['race'], prefix='race')], axis=1)\n",
    "dtf = pd.concat([dtf, pd.get_dummies(dtf['ethnicity'], prefix='ethnicity')], axis=1)\n",
    "dtf = pd.concat([dtf, pd.get_dummies(dtf['language'], prefix='payer')], axis=1)\n",
    "\n",
    "\n",
    "\n",
    "\n",
    "dtf2=dtf#.drop('EventID',1)\n",
    "dtf2=dtf2.drop('PersonID',1)\n",
    "dtf2=dtf2.drop('category',1)\n",
    "dtf2=dtf2.drop('LocationName',1)\n",
    "dtf2=dtf2.drop('specialty',1)\n",
    "#dtf2=dtf2.drop('race',1)\n",
    "dtf2=dtf2.drop('ethnicity',1)\n",
    "dtf2=dtf2.drop('language',1)"
   ]
  },
  {
   "cell_type": "code",
   "execution_count": 6,
   "metadata": {
    "collapsed": false
   },
   "outputs": [
    {
     "data": {
      "text/html": [
       "<div>\n",
       "<table border=\"1\" class=\"dataframe\">\n",
       "  <thead>\n",
       "    <tr style=\"text-align: right;\">\n",
       "      <th></th>\n",
       "      <th>﻿EventID</th>\n",
       "      <th>eventdate</th>\n",
       "      <th>hosp_inf</th>\n",
       "      <th>Age__int</th>\n",
       "      <th>event_month</th>\n",
       "      <th>depression</th>\n",
       "      <th>anxiety</th>\n",
       "      <th>stroke</th>\n",
       "      <th>pain</th>\n",
       "      <th>diabetes</th>\n",
       "      <th>...</th>\n",
       "      <th>ethnicity_Not Hispanic or Latino</th>\n",
       "      <th>ethnicity_Other or Undetermined</th>\n",
       "      <th>ethnicity_other</th>\n",
       "      <th>payer_English</th>\n",
       "      <th>payer_Other</th>\n",
       "      <th>payer_Russian</th>\n",
       "      <th>payer_Somali</th>\n",
       "      <th>payer_Spanish</th>\n",
       "      <th>payer_Vietnamese</th>\n",
       "      <th>payer_other</th>\n",
       "    </tr>\n",
       "  </thead>\n",
       "  <tbody>\n",
       "    <tr>\n",
       "      <th>0</th>\n",
       "      <td>23466485</td>\n",
       "      <td>2014-07-28</td>\n",
       "      <td>1</td>\n",
       "      <td>16</td>\n",
       "      <td>7</td>\n",
       "      <td>0</td>\n",
       "      <td>0</td>\n",
       "      <td>0</td>\n",
       "      <td>0</td>\n",
       "      <td>1</td>\n",
       "      <td>...</td>\n",
       "      <td>0.0</td>\n",
       "      <td>0.0</td>\n",
       "      <td>0.0</td>\n",
       "      <td>1.0</td>\n",
       "      <td>0.0</td>\n",
       "      <td>0.0</td>\n",
       "      <td>0.0</td>\n",
       "      <td>0.0</td>\n",
       "      <td>0.0</td>\n",
       "      <td>0.0</td>\n",
       "    </tr>\n",
       "    <tr>\n",
       "      <th>1</th>\n",
       "      <td>23545856</td>\n",
       "      <td>2012-11-21</td>\n",
       "      <td>1</td>\n",
       "      <td>49</td>\n",
       "      <td>11</td>\n",
       "      <td>1</td>\n",
       "      <td>1</td>\n",
       "      <td>0</td>\n",
       "      <td>0</td>\n",
       "      <td>1</td>\n",
       "      <td>...</td>\n",
       "      <td>1.0</td>\n",
       "      <td>0.0</td>\n",
       "      <td>0.0</td>\n",
       "      <td>0.0</td>\n",
       "      <td>1.0</td>\n",
       "      <td>0.0</td>\n",
       "      <td>0.0</td>\n",
       "      <td>0.0</td>\n",
       "      <td>0.0</td>\n",
       "      <td>0.0</td>\n",
       "    </tr>\n",
       "    <tr>\n",
       "      <th>2</th>\n",
       "      <td>109861</td>\n",
       "      <td>2016-05-05</td>\n",
       "      <td>0</td>\n",
       "      <td>52</td>\n",
       "      <td>5</td>\n",
       "      <td>0</td>\n",
       "      <td>0</td>\n",
       "      <td>1</td>\n",
       "      <td>0</td>\n",
       "      <td>0</td>\n",
       "      <td>...</td>\n",
       "      <td>1.0</td>\n",
       "      <td>0.0</td>\n",
       "      <td>0.0</td>\n",
       "      <td>0.0</td>\n",
       "      <td>1.0</td>\n",
       "      <td>0.0</td>\n",
       "      <td>0.0</td>\n",
       "      <td>0.0</td>\n",
       "      <td>0.0</td>\n",
       "      <td>0.0</td>\n",
       "    </tr>\n",
       "    <tr>\n",
       "      <th>3</th>\n",
       "      <td>222950</td>\n",
       "      <td>2012-08-16</td>\n",
       "      <td>0</td>\n",
       "      <td>8</td>\n",
       "      <td>8</td>\n",
       "      <td>0</td>\n",
       "      <td>1</td>\n",
       "      <td>0</td>\n",
       "      <td>0</td>\n",
       "      <td>0</td>\n",
       "      <td>...</td>\n",
       "      <td>1.0</td>\n",
       "      <td>0.0</td>\n",
       "      <td>0.0</td>\n",
       "      <td>0.0</td>\n",
       "      <td>1.0</td>\n",
       "      <td>0.0</td>\n",
       "      <td>0.0</td>\n",
       "      <td>0.0</td>\n",
       "      <td>0.0</td>\n",
       "      <td>0.0</td>\n",
       "    </tr>\n",
       "    <tr>\n",
       "      <th>4</th>\n",
       "      <td>10782582</td>\n",
       "      <td>2013-07-12</td>\n",
       "      <td>0</td>\n",
       "      <td>45</td>\n",
       "      <td>7</td>\n",
       "      <td>0</td>\n",
       "      <td>0</td>\n",
       "      <td>0</td>\n",
       "      <td>0</td>\n",
       "      <td>0</td>\n",
       "      <td>...</td>\n",
       "      <td>0.0</td>\n",
       "      <td>1.0</td>\n",
       "      <td>0.0</td>\n",
       "      <td>1.0</td>\n",
       "      <td>0.0</td>\n",
       "      <td>0.0</td>\n",
       "      <td>0.0</td>\n",
       "      <td>0.0</td>\n",
       "      <td>0.0</td>\n",
       "      <td>0.0</td>\n",
       "    </tr>\n",
       "  </tbody>\n",
       "</table>\n",
       "<p>5 rows × 157 columns</p>\n",
       "</div>"
      ],
      "text/plain": [
       "   ﻿EventID   eventdate  hosp_inf  Age__int  event_month  depression  anxiety  \\\n",
       "0  23466485  2014-07-28         1        16            7           0        0   \n",
       "1  23545856  2012-11-21         1        49           11           1        1   \n",
       "2    109861  2016-05-05         0        52            5           0        0   \n",
       "3    222950  2012-08-16         0         8            8           0        1   \n",
       "4  10782582  2013-07-12         0        45            7           0        0   \n",
       "\n",
       "   stroke  pain  diabetes     ...      ethnicity_Not Hispanic or Latino  \\\n",
       "0       0     0         1     ...                                   0.0   \n",
       "1       0     0         1     ...                                   1.0   \n",
       "2       1     0         0     ...                                   1.0   \n",
       "3       0     0         0     ...                                   1.0   \n",
       "4       0     0         0     ...                                   0.0   \n",
       "\n",
       "   ethnicity_Other or Undetermined  ethnicity_other  payer_English  \\\n",
       "0                              0.0              0.0            1.0   \n",
       "1                              0.0              0.0            0.0   \n",
       "2                              0.0              0.0            0.0   \n",
       "3                              0.0              0.0            0.0   \n",
       "4                              1.0              0.0            1.0   \n",
       "\n",
       "   payer_Other  payer_Russian  payer_Somali  payer_Spanish payer_Vietnamese  \\\n",
       "0          0.0            0.0           0.0            0.0              0.0   \n",
       "1          1.0            0.0           0.0            0.0              0.0   \n",
       "2          1.0            0.0           0.0            0.0              0.0   \n",
       "3          1.0            0.0           0.0            0.0              0.0   \n",
       "4          0.0            0.0           0.0            0.0              0.0   \n",
       "\n",
       "  payer_other  \n",
       "0         0.0  \n",
       "1         0.0  \n",
       "2         0.0  \n",
       "3         0.0  \n",
       "4         0.0  \n",
       "\n",
       "[5 rows x 157 columns]"
      ]
     },
     "execution_count": 6,
     "metadata": {},
     "output_type": "execute_result"
    }
   ],
   "source": [
    "dtf2.head()"
   ]
  },
  {
   "cell_type": "code",
   "execution_count": 7,
   "metadata": {
    "collapsed": false
   },
   "outputs": [],
   "source": [
    "#creating new fields \n",
    "\n",
    "dtf2['bmi_underweight'] = dtf2.bmi.map(lambda x: 1 if ( x < 18.5) else 0)\n",
    "dtf2['bmi_overweight'] = dtf2.bmi.map(lambda x: 1 if ( x >25) else 0)"
   ]
  },
  {
   "cell_type": "code",
   "execution_count": 8,
   "metadata": {
    "collapsed": false,
    "scrolled": true
   },
   "outputs": [
    {
     "name": "stdout",
     "output_type": "stream",
     "text": [
      "hosp_inf                                   1.000000\n",
      "diabetes                                   0.512573\n",
      "﻿EventID                                   0.499933\n",
      "specialty_Emergency Medicine               0.277191\n",
      "specialty_Hospital                         0.150704\n",
      "depression                                 0.147805\n",
      "anxiety                                    0.094831\n",
      "specialty_Internal Medicine                0.085089\n",
      "ethnicity_Not Hispanic or Latino           0.080973\n",
      "Age__int                                   0.072226\n",
      "sex_male                                   0.063961\n",
      "specialty_Critical Care                    0.060264\n",
      "race_White                                 0.054304\n",
      "payer_English                              0.044027\n",
      "Location_Yakima Neighborhood Health Ser    0.039511\n",
      "Location_CHAS Downtown Clinic              0.032805\n",
      "Location_Peninsula Comm Hlth Svc Bremer    0.031573\n",
      "Location_Sea Mar Comm Hlth Ctr Lacey       0.028449\n",
      "Location_Community Health Care Lakewood    0.027934\n",
      "Location_Valley View Hlth Ctr Chehalis     0.027459\n",
      "Location_Sea Mar Comm Hlth Ctr Olympia     0.026397\n",
      "Location_Sea Mar Comm Hlth Ctr Vancouve    0.024978\n",
      "specialty_General practice                 0.023650\n",
      "pain                                       0.023437\n",
      "Location_Pike Market Med Clinic Neighbo    0.022899\n",
      "Location_CHAS MARKET ST CLINIC             0.022730\n",
      "specialty_Other                            0.022137\n",
      "Location_YVFWC Grandview                   0.021501\n",
      "event_month                                0.020652\n",
      "race_Black or African American             0.020642\n",
      "                                             ...   \n",
      "Location_TRI CITIES COMM HLTH KENNEWICK   -0.024827\n",
      "race_Asian                                -0.024903\n",
      "payer_other                               -0.025231\n",
      "specialty_General Surgery                 -0.025551\n",
      "Location_Other                            -0.025651\n",
      "Location_CONNELL FAMILY CLINIC            -0.025841\n",
      "payer_Spanish                             -0.025851\n",
      "specialty_Physical Medicine Rehab         -0.025854\n",
      "specialty_Oncology Medical                -0.026813\n",
      "Location_Holly Park Med & Dental Clinic   -0.027043\n",
      "Location_PMG E WA PEDS ASSOC NORTH        -0.030367\n",
      "specialty_nurse practitioner              -0.031044\n",
      "Location_Sea Mar Comm Hlth Ctr Burien     -0.031942\n",
      "specialty_Nurse Midwife Certified         -0.032950\n",
      "specialty_Radiologist                     -0.033491\n",
      "specialty_Psychiatry                      -0.035006\n",
      "specialty_Neurology                       -0.035259\n",
      "specialty_Orthopedic Surgery              -0.036113\n",
      "Location_Unknown Location                 -0.040275\n",
      "specialty_crna                            -0.041949\n",
      "specialty_PATHOLOGY                       -0.043971\n",
      "race_Needs Update                         -0.050271\n",
      "PersonID                                  -0.057295\n",
      "sex_female                                -0.063961\n",
      "preg_in_year                              -0.064325\n",
      "ethnicity_Other or Undetermined           -0.080446\n",
      "specialty_Anesthesiology                  -0.082204\n",
      "specialty_Obstetrics Gynecology           -0.087721\n",
      "specialty_pediatrics                      -0.103540\n",
      "specialty_Radiology Diagnostic            -0.108364\n",
      "Name: hosp_inf, dtype: float64\n"
     ]
    }
   ],
   "source": [
    "#correlation analysis\n",
    "\n",
    "corr_series = dtf.corr()['hosp_inf'].sort_values(ascending=False)\n",
    "\n",
    "print(corr_series)"
   ]
  },
  {
   "cell_type": "code",
   "execution_count": 9,
   "metadata": {
    "collapsed": false,
    "scrolled": true
   },
   "outputs": [
    {
     "data": {
      "text/plain": [
       "<matplotlib.axes._subplots.AxesSubplot at 0xb239400>"
      ]
     },
     "execution_count": 9,
     "metadata": {},
     "output_type": "execute_result"
    },
    {
     "data": {
      "image/png": "[encoded data removed]",
      "text/plain": [
       "<matplotlib.figure.Figure at 0xb239a20>"
      ]
     },
     "metadata": {},
     "output_type": "display_data"
    }
   ],
   "source": [
    "dtf2['Age__int'].hist(bins=70)\n",
    "\n",
    "#age distribution of dataset"
   ]
  },
  {
   "cell_type": "code",
   "execution_count": 10,
   "metadata": {
    "collapsed": false
   },
   "outputs": [
    {
     "data": {
      "text/plain": [
       "<seaborn.axisgrid.FacetGrid at 0xb414da0>"
      ]
     },
     "execution_count": 10,
     "metadata": {},
     "output_type": "execute_result"
    },
    {
     "data": {
      "image/png": "[encoded data removed]",
      "text/plain": [
       "<matplotlib.figure.Figure at 0x3caff98>"
      ]
     },
     "metadata": {},
     "output_type": "display_data"
    }
   ],
   "source": [
    "sns.factorplot('hosp_inf',kind='count',data=dtf)"
   ]
  },
  {
   "cell_type": "code",
   "execution_count": 11,
   "metadata": {
    "collapsed": false
   },
   "outputs": [
    {
     "data": {
      "text/plain": [
       "<seaborn.axisgrid.FacetGrid at 0xd5b22b0>"
      ]
     },
     "execution_count": 11,
     "metadata": {},
     "output_type": "execute_result"
    },
    {
     "data": {
      "image/png": "[encoded data removed]",
      "text/plain": [
       "<matplotlib.figure.Figure at 0xb1f4ef0>"
      ]
     },
     "metadata": {},
     "output_type": "display_data"
    }
   ],
   "source": [
    "sns.factorplot('hosp_inf',kind='count',data=dtf,hue='depression',color='blue')\n",
    "\n",
    "#of all the HAC incidents people who had depression are more"
   ]
  },
  {
   "cell_type": "code",
   "execution_count": 12,
   "metadata": {
    "collapsed": false
   },
   "outputs": [
    {
     "data": {
      "text/plain": [
       "<seaborn.axisgrid.FacetGrid at 0xd50df28>"
      ]
     },
     "execution_count": 12,
     "metadata": {},
     "output_type": "execute_result"
    },
    {
     "data": {
      "image/png": "[encoded data removed]",
      "text/plain": [
       "<matplotlib.figure.Figure at 0xd76b908>"
      ]
     },
     "metadata": {},
     "output_type": "display_data"
    }
   ],
   "source": [
    "sns.factorplot('event_month',kind='count',data=dtf,hue='hosp_inf',color='blue')"
   ]
  },
  {
   "cell_type": "code",
   "execution_count": 13,
   "metadata": {
    "collapsed": false
   },
   "outputs": [
    {
     "name": "stdout",
     "output_type": "stream",
     "text": [
      "Index([u'diabetes', u'﻿EventID', u'specialty_Emergency Medicine',\n",
      "       u'specialty_Hospital', u'depression', u'anxiety',\n",
      "       u'specialty_Internal Medicine', u'ethnicity_Not Hispanic or Latino',\n",
      "       u'Age__int', u'sex_male',\n",
      "       ...\n",
      "       u'specialty_PATHOLOGY', u'race_Needs Update', u'sex_female',\n",
      "       u'preg_in_year', u'bmi_overweight', u'ethnicity_Other or Undetermined',\n",
      "       u'specialty_Anesthesiology', u'specialty_Obstetrics Gynecology',\n",
      "       u'specialty_pediatrics', u'specialty_Radiology Diagnostic'],\n",
      "      dtype='object', length=155)\n"
     ]
    },
    {
     "name": "stderr",
     "output_type": "stream",
     "text": [
      "C:\\Users\\dinesh\\Anaconda2\\lib\\site-packages\\ipykernel\\__main__.py:1: FutureWarning: order is deprecated, use sort_values(...)\n",
      "  if __name__ == '__main__':\n"
     ]
    }
   ],
   "source": [
    "corr_series = dtf2.corr()['hosp_inf'].order(ascending=False)\n",
    "\n",
    "selected_columns = corr_series.index\n",
    "\n",
    "selected_columns = selected_columns[((selected_columns != 'hosp_inf' ) &  (selected_columns != 'EventID'))]\n",
    "\n",
    "print(selected_columns)"
   ]
  },
  {
   "cell_type": "code",
   "execution_count": 14,
   "metadata": {
    "collapsed": false
   },
   "outputs": [],
   "source": [
    "dtf3=dtf2.dropna()\n",
    "\n",
    "X = dtf3.ix[:, selected_columns] \n",
    "\n",
    "y = dtf3.ix[:, dtf3.columns == 'hosp_inf']\n",
    "\n"
   ]
  },
  {
   "cell_type": "code",
   "execution_count": 15,
   "metadata": {
    "collapsed": false
   },
   "outputs": [],
   "source": [
    "from sklearn.cross_validation import train_test_split\n",
    "X_train, X_test, y_train, y_test = train_test_split(X, y, test_size=0.3)"
   ]
  },
  {
   "cell_type": "code",
   "execution_count": 16,
   "metadata": {
    "collapsed": false
   },
   "outputs": [
    {
     "name": "stderr",
     "output_type": "stream",
     "text": [
      "C:\\Users\\dinesh\\Anaconda2\\lib\\site-packages\\ipykernel\\__main__.py:5: DataConversionWarning: A column-vector y was passed when a 1d array was expected. Please change the shape of y to (n_samples, ), for example using ravel().\n"
     ]
    },
    {
     "data": {
      "text/plain": [
       "0.89177370866356931"
      ]
     },
     "execution_count": 16,
     "metadata": {},
     "output_type": "execute_result"
    }
   ],
   "source": [
    "#from sklearn.tree import DecisionTreeClassifier\n",
    "from sklearn.neighbors import KNeighborsClassifier\n",
    "#from sklearn.ensemble import RandomForestClassifier\n",
    "lr=KNeighborsClassifier()\n",
    "lr.fit(X_train, y_train)\n",
    "lr.score(X_test, y_test)\n"
   ]
  },
  {
   "cell_type": "code",
   "execution_count": 17,
   "metadata": {
    "collapsed": false
   },
   "outputs": [
    {
     "name": "stderr",
     "output_type": "stream",
     "text": [
      "C:\\Users\\dinesh\\Anaconda2\\lib\\site-packages\\ipykernel\\__main__.py:3: DataConversionWarning: A column-vector y was passed when a 1d array was expected. Please change the shape of y to (n_samples,), for example using ravel().\n",
      "  app.launch_new_instance()\n"
     ]
    },
    {
     "data": {
      "text/plain": [
       "0.94698004919376877"
      ]
     },
     "execution_count": 17,
     "metadata": {},
     "output_type": "execute_result"
    }
   ],
   "source": [
    "from sklearn.ensemble import RandomForestClassifier\n",
    "lr=RandomForestClassifier()\n",
    "lr.fit(X_train, y_train)\n",
    "lr.score(X_test, y_test)\n"
   ]
  }
 ],
 "metadata": {
  "anaconda-cloud": {},
  "kernelspec": {
   "display_name": "Python [Root]",
   "language": "python",
   "name": "Python [Root]"
  },
  "language_info": {
   "codemirror_mode": {
    "name": "ipython",
    "version": 2
   },
   "file_extension": ".py",
   "mimetype": "text/x-python",
   "name": "python",
   "nbconvert_exporter": "python",
   "pygments_lexer": "ipython2",
   "version": "2.7.12"
  }
 },
 "nbformat": 4,
 "nbformat_minor": 0
}
